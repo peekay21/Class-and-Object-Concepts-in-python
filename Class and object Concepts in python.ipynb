{
 "cells": [
  {
   "cell_type": "markdown",
   "metadata": {},
   "source": [
    "### Classes and Objects concepts in python\n",
    "--------------------------------------------------------------------------------------------------\n",
    "##### Class : class is a user-defined data type. It is blueprint for creating objects. Class consists of data members and member functions.\n",
    "##### Object : Object is an instance of class. When class is defined memory is not allocated but when an object is instantiated memory is allocated."
   ]
  },
  {
   "cell_type": "code",
   "execution_count": 1,
   "metadata": {},
   "outputs": [
    {
     "name": "stdout",
     "output_type": "stream",
     "text": [
      "bulldog\n",
      "brown\n"
     ]
    }
   ],
   "source": [
    "# define a class, named dog\n",
    "class Dog:\n",
    "    breed = 'bulldog' #member function\n",
    "    color = 'brown'\n",
    "    \n",
    "    def bark(self):\n",
    "        print('Barking.....')\n",
    "    def run(self):\n",
    "        print('Running....')\n",
    "\n",
    "# Instantiating an object\n",
    "Ricky = Dog()\n",
    "# access data member and member functions using '.'\n",
    "print(Ricky.breed)\n",
    "print(Ricky.color)"
   ]
  },
  {
   "cell_type": "code",
   "execution_count": null,
   "metadata": {},
   "outputs": [],
   "source": []
  }
 ],
 "metadata": {
  "kernelspec": {
   "display_name": "Python [conda env:deeplearning] *",
   "language": "python",
   "name": "conda-env-deeplearning-py"
  },
  "language_info": {
   "codemirror_mode": {
    "name": "ipython",
    "version": 3
   },
   "file_extension": ".py",
   "mimetype": "text/x-python",
   "name": "python",
   "nbconvert_exporter": "python",
   "pygments_lexer": "ipython3",
   "version": "3.7.7"
  }
 },
 "nbformat": 4,
 "nbformat_minor": 4
}
